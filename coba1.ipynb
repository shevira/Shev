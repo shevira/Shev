{
  "nbformat": 4,
  "nbformat_minor": 0,
  "metadata": {
    "colab": {
      "provenance": [],
      "authorship_tag": "ABX9TyNYPADCVMZcbjy1Cjo8lVPZ",
      "include_colab_link": true
    },
    "kernelspec": {
      "name": "python3",
      "display_name": "Python 3"
    },
    "language_info": {
      "name": "python"
    }
  },
  "cells": [
    {
      "cell_type": "markdown",
      "metadata": {
        "id": "view-in-github",
        "colab_type": "text"
      },
      "source": [
        "<a href=\"https://colab.research.google.com/github/shevira/Shev/blob/main/coba1.ipynb\" target=\"_parent\"><img src=\"https://colab.research.google.com/assets/colab-badge.svg\" alt=\"Open In Colab\"/></a>"
      ]
    },
    {
      "cell_type": "code",
      "execution_count": null,
      "metadata": {
        "id": "mJHYGkX3PDlA"
      },
      "outputs": [],
      "source": [
        "# Contoh: my_module.py\n",
        "\n",
        "def greet(name):\n",
        "    \"\"\"Fungsi sapaan.\"\"\"\n",
        "    print(f\"Hello, {name}!\")\n",
        "\n",
        "def exponential(x,y):\n",
        "     \"\"\"fungsi perpangkatan\"\"\"\n",
        "     hasil = x**y\n",
        "     return hasil\n"
      ]
    }
  ]
}