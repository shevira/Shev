{
  "nbformat": 4,
  "nbformat_minor": 0,
  "metadata": {
    "colab": {
      "provenance": [],
      "authorship_tag": "ABX9TyMhnxI/yJL36fom+sDJ1FYV",
      "include_colab_link": true
    },
    "kernelspec": {
      "name": "python3",
      "display_name": "Python 3"
    },
    "language_info": {
      "name": "python"
    }
  },
  "cells": [
    {
      "cell_type": "markdown",
      "metadata": {
        "id": "view-in-github",
        "colab_type": "text"
      },
      "source": [
        "<a href=\"https://colab.research.google.com/github/shevira/TES/blob/main/Nomor_1.ipynb\" target=\"_parent\"><img src=\"https://colab.research.google.com/assets/colab-badge.svg\" alt=\"Open In Colab\"/></a>"
      ]
    },
    {
      "cell_type": "code",
      "execution_count": 7,
      "metadata": {
        "id": "mJHYGkX3PDlA",
        "colab": {
          "base_uri": "https://localhost:8080/"
        },
        "outputId": "4123398b-3593-4e43-ab31-e0da1f133c55"
      },
      "outputs": [
        {
          "output_type": "stream",
          "name": "stdout",
          "text": [
            "Masukkan angka : 68\n",
            "angka tersebut adalah bilangan genap\n"
          ]
        }
      ],
      "source": [
        "x = int(input('Masukkan angka : '))\n",
        "print('angka tersebut adalah bilangan', 'genap' if (x % 2 == 0) else 'ganjil')"
      ]
    }
  ]
}